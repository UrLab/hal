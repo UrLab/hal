{
 "metadata": {
  "name": "",
  "signature": "sha256:08e696805bb04901285fada5df6c8adb2cd7b683b92328bfa37e8089021e1f01"
 },
 "nbformat": 3,
 "nbformat_minor": 0,
 "worksheets": [
  {
   "cells": [
    {
     "cell_type": "code",
     "collapsed": false,
     "input": [
      "%pylab inline"
     ],
     "language": "python",
     "metadata": {},
     "outputs": [
      {
       "output_type": "stream",
       "stream": "stdout",
       "text": [
        "Populating the interactive namespace from numpy and matplotlib\n"
       ]
      }
     ],
     "prompt_number": 15
    },
    {
     "cell_type": "markdown",
     "metadata": {},
     "source": [
      "# Super tp de stat\n",
      "## Exercices 3.5"
     ]
    },
    {
     "cell_type": "markdown",
     "metadata": {},
     "source": [
      "$$ \\sum_{i=1}^{n}{\\frac{i}{i!}}$$"
     ]
    }
   ],
   "metadata": {}
  }
 ]
}